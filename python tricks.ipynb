{
 "cells": [
  {
   "cell_type": "code",
   "execution_count": 2,
   "metadata": {},
   "outputs": [
    {
     "name": "stdout",
     "output_type": "stream",
     "text": [
      "[1, 0, 5]\n"
     ]
    }
   ],
   "source": [
    "#itterate with enumerate instead of range(len(X))\n",
    "data=[1,2-4,5]\n",
    "for i in range(len(data)):\n",
    "    if data[i]<0:\n",
    "        data[i]=0\n",
    "print(data)"
   ]
  },
  {
   "cell_type": "code",
   "execution_count": 10,
   "metadata": {},
   "outputs": [
    {
     "name": "stdout",
     "output_type": "stream",
     "text": [
      "[1, 0, 5]\n"
     ]
    }
   ],
   "source": [
    "for idx,num in enumerate(data):\n",
    "    if num<0:\n",
    "        data[idx]=0\n",
    "print(data)"
   ]
  },
  {
   "cell_type": "code",
   "execution_count": 14,
   "metadata": {},
   "outputs": [
    {
     "name": "stdout",
     "output_type": "stream",
     "text": [
      "[0, 1, 4, 9, 16, 25, 36, 49, 64, 81]\n"
     ]
    }
   ],
   "source": [
    "#use list comprehension instaed of raw for loops\n",
    "squares=[]\n",
    "for i in range(10):\n",
    "    squares.append(i*i)\n",
    "print(squares)"
   ]
  },
  {
   "cell_type": "code",
   "execution_count": 17,
   "metadata": {},
   "outputs": [
    {
     "name": "stdout",
     "output_type": "stream",
     "text": [
      "[0, 1, 4, 9, 16, 25, 36, 49, 64, 81]\n"
     ]
    }
   ],
   "source": [
    "square=[i*i for i in range(10)]\n",
    "print(square)"
   ]
  },
  {
   "cell_type": "code",
   "execution_count": 19,
   "metadata": {},
   "outputs": [
    {
     "name": "stdout",
     "output_type": "stream",
     "text": [
      "[1, 3, 4, 7, 9]\n"
     ]
    }
   ],
   "source": [
    "#sort complex iterables with sorted()\n",
    "data=[3,4,1,7,9]\n",
    "sorted_data=sorted(data)\n",
    "print(sorted_data)"
   ]
  },
  {
   "cell_type": "code",
   "execution_count": 21,
   "metadata": {},
   "outputs": [
    {
     "name": "stdout",
     "output_type": "stream",
     "text": [
      "[9, 7, 4, 3, 1]\n"
     ]
    }
   ],
   "source": [
    "desc=sorted(data,reverse=True)\n",
    "\n",
    "print(desc)"
   ]
  },
  {
   "cell_type": "code",
   "execution_count": 32,
   "metadata": {},
   "outputs": [
    {
     "name": "stdout",
     "output_type": "stream",
     "text": [
      "[{'name': 'rahul', 'age': 4}, {'name': 'max', 'age': 6}, {'name': 'simran', 'age': 12}]\n"
     ]
    }
   ],
   "source": [
    "data=[{'name':'max','age':6},\n",
    "     {'name':'simran','age':12},\n",
    "    {'name':'rahul','age':4}]\n",
    "sorted_data=sorted(data,key=lambda x:x['age'])\n",
    "print(sorted_data)"
   ]
  },
  {
   "cell_type": "code",
   "execution_count": 33,
   "metadata": {},
   "outputs": [
    {
     "name": "stdout",
     "output_type": "stream",
     "text": [
      "[1, 2, 5, 6, 8, 6, 5]\n",
      "{1, 2, 5, 6, 8}\n"
     ]
    }
   ],
   "source": [
    "#store unique values with sets\n",
    "my_list=[1,2,5,6,8,6,5]\n",
    "my_set=set(my_list)\n",
    "print(my_list)\n",
    "print(my_set)"
   ]
  },
  {
   "cell_type": "code",
   "execution_count": 37,
   "metadata": {},
   "outputs": [
    {
     "name": "stdout",
     "output_type": "stream",
     "text": [
      "499500\n",
      "9016 bytes\n",
      "499500\n",
      "112 bytes\n"
     ]
    }
   ],
   "source": [
    "#save memory with generators\n",
    "import sys\n",
    "my_list=[i for i in range(1000)]\n",
    "print(sum(my_list))\n",
    "print(sys.getsizeof(my_list),'bytes')\n",
    "my_gen=(i for i in range(1000))\n",
    "print(sum(my_gen))\n",
    "print(sys.getsizeof(my_gen),'bytes')"
   ]
  },
  {
   "cell_type": "raw",
   "metadata": {},
   "source": []
  },
  {
   "cell_type": "code",
   "execution_count": 50,
   "metadata": {},
   "outputs": [
    {
     "name": "stdout",
     "output_type": "stream",
     "text": [
      "0\n",
      "1\n",
      "{'item': 'drinks', 'price': 454, 'count': 1}\n"
     ]
    }
   ],
   "source": [
    "#define default values in dictionaries with .get() and .setdefault()\n",
    "my_dict={'item':'foods','price':100,'item':'drinks','price':454}\n",
    "count=my_dict.get('count',0)\n",
    "print(count)\n",
    "\n",
    "count=my_dict.setdefault('count',1)\n",
    "print(count)\n",
    "print(my_dict)"
   ]
  },
  {
   "cell_type": "code",
   "execution_count": 69,
   "metadata": {},
   "outputs": [
    {
     "name": "stdout",
     "output_type": "stream",
     "text": [
      "2\n",
      "Counter({10: 3, 5: 2, 7: 2, 8: 2, 4: 2, 6: 1})\n",
      "[(10, 3), (5, 2)]\n"
     ]
    }
   ],
   "source": [
    "#count hashable objects with collections.counter\n",
    "from collections import Counter\n",
    "\n",
    "my_list=[10,10,10,5,6,7,8,8,5,4,4,7]\n",
    "counter=Counter(my_list)\n",
    "print(counter[4])\n",
    "print(counter)\n",
    "most_common=counter.most_common(2)\n",
    "print(most_common)\n"
   ]
  },
  {
   "cell_type": "code",
   "execution_count": 70,
   "metadata": {},
   "outputs": [
    {
     "name": "stdout",
     "output_type": "stream",
     "text": [
      "hello Alex\n"
     ]
    }
   ],
   "source": [
    "#format strings with f-strings(3.6+)\n",
    "\n",
    "name=\"Alex\"\n",
    "my_string=f\"hello {name}\"\n",
    "print(my_string)"
   ]
  },
  {
   "cell_type": "code",
   "execution_count": 74,
   "metadata": {},
   "outputs": [
    {
     "name": "stdout",
     "output_type": "stream",
     "text": [
      "10 squared is 100\n"
     ]
    }
   ],
   "source": [
    "i=10\n",
    "print(f'{i} squared is {i*i}')"
   ]
  },
  {
   "cell_type": "code",
   "execution_count": 76,
   "metadata": {},
   "outputs": [
    {
     "name": "stdout",
     "output_type": "stream",
     "text": [
      "hello my friend\n"
     ]
    }
   ],
   "source": [
    "#concatenate strings with .join()\n",
    "\n",
    "list_of_strings=['hello','my','friend']\n",
    "my_string=' '.join(list_of_strings)\n",
    "print(my_string)"
   ]
  },
  {
   "cell_type": "code",
   "execution_count": 78,
   "metadata": {},
   "outputs": [
    {
     "name": "stdout",
     "output_type": "stream",
     "text": [
      "{'name': 'alex', 'age': 23, 'city': 'newyork'}\n"
     ]
    }
   ],
   "source": [
    "#Merge dictionaries with {**d1,**d2}\n",
    "d1={'name':\"alex\",'age':23}\n",
    "d2={'name':\"alex\",'city':'newyork'}\n",
    "merged_dict={**d1,**d2}\n",
    "print(merged_dict)"
   ]
  },
  {
   "cell_type": "code",
   "execution_count": 81,
   "metadata": {},
   "outputs": [
    {
     "name": "stdout",
     "output_type": "stream",
     "text": [
      "is main color\n"
     ]
    }
   ],
   "source": [
    "#simplify if_statement with if x in [a,b,c]\n",
    "colors=['red','green','blue']\n",
    "c='red'\n",
    "if c in colors:\n",
    "    print(\"is main color\")"
   ]
  },
  {
   "cell_type": "code",
   "execution_count": 84,
   "metadata": {},
   "outputs": [
    {
     "name": "stdout",
     "output_type": "stream",
     "text": [
      "8 9\n",
      "9 8\n"
     ]
    }
   ],
   "source": [
    "#swapping values\n",
    "a=8\n",
    "b=9\n",
    "print(a,b)\n",
    "a,b=b,a\n",
    "print(a,b)"
   ]
  },
  {
   "cell_type": "code",
   "execution_count": 93,
   "metadata": {},
   "outputs": [
    {
     "name": "stdout",
     "output_type": "stream",
     "text": [
      "[0, 2, 4, 6, 8, 10, 12, 14, 16, 18, 20]\n"
     ]
    }
   ],
   "source": [
    "evens=[i for i in range(21) if i%2==0]\n",
    "print(evens)"
   ]
  },
  {
   "cell_type": "code",
   "execution_count": 115,
   "metadata": {},
   "outputs": [
    {
     "name": "stdout",
     "output_type": "stream",
     "text": [
      "[1, 4, 9, 16, 64, 36]\n",
      "[2, 4, 8, 6]\n",
      "1152\n"
     ]
    }
   ],
   "source": [
    "#list manupulation\n",
    "from functools import reduce\n",
    "num=[1,2,3,4,8,6]\n",
    "def squares(n):\n",
    "    return n*n\n",
    "squares=list(map(square,num))\n",
    "print(squares)\n",
    "def even(n):\n",
    "    return n%2==0\n",
    "\n",
    "even=list(filter(even,num))\n",
    "print(even)\n",
    "\n",
    "def multiply(x,y):\n",
    "    return x*y\n",
    "\n",
    "product=reduce(multiply,num)\n",
    "print(product)"
   ]
  },
  {
   "cell_type": "code",
   "execution_count": 124,
   "metadata": {},
   "outputs": [
    {
     "name": "stdout",
     "output_type": "stream",
     "text": [
      "[1, 4, 9, 16, 64, 36]\n",
      "[2, 4, 8, 6]\n",
      "1152\n"
     ]
    }
   ],
   "source": [
    "#lambda\n",
    "squares=list(map(lambda x:x**2,num))\n",
    "print(squares)\n",
    "\n",
    "even=list(filter(lambda x:x%2==0,num))\n",
    "print(even)\n",
    "\n",
    "\n",
    "product=reduce(lambda x,y:x*y,num)\n",
    "print(product)"
   ]
  },
  {
   "cell_type": "code",
   "execution_count": null,
   "metadata": {},
   "outputs": [],
   "source": []
  }
 ],
 "metadata": {
  "kernelspec": {
   "display_name": "Python 3",
   "language": "python",
   "name": "python3"
  },
  "language_info": {
   "codemirror_mode": {
    "name": "ipython",
    "version": 3
   },
   "file_extension": ".py",
   "mimetype": "text/x-python",
   "name": "python",
   "nbconvert_exporter": "python",
   "pygments_lexer": "ipython3",
   "version": "3.8.5"
  }
 },
 "nbformat": 4,
 "nbformat_minor": 4
}
